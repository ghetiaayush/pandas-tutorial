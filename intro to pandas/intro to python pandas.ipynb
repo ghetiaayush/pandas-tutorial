{
 "cells": [
  {
   "cell_type": "code",
   "execution_count": 1,
   "metadata": {},
   "outputs": [
    {
     "name": "stdout",
     "output_type": "stream",
     "text": [
      "0    P\n",
      "1    a\n",
      "2    n\n",
      "3    d\n",
      "4    a\n",
      "5    s\n",
      "dtype: object\n"
     ]
    }
   ],
   "source": [
    "# Python Pandas Data Structure\n",
    "# The Pandas provides two data structures for processing the data, i.e., Series and DataFrame .\n",
    "# 1) Series\n",
    "import pandas as pd  \n",
    "import numpy as np  \n",
    "info = np.array(['P','a','n','d','a','s'])  \n",
    "a = pd.Series(info)  \n",
    "print(a) "
   ]
  },
  {
   "cell_type": "code",
   "execution_count": 2,
   "metadata": {},
   "outputs": [
    {
     "data": {
      "text/html": [
       "<div>\n",
       "<style scoped>\n",
       "    .dataframe tbody tr th:only-of-type {\n",
       "        vertical-align: middle;\n",
       "    }\n",
       "\n",
       "    .dataframe tbody tr th {\n",
       "        vertical-align: top;\n",
       "    }\n",
       "\n",
       "    .dataframe thead th {\n",
       "        text-align: right;\n",
       "    }\n",
       "</style>\n",
       "<table border=\"1\" class=\"dataframe\">\n",
       "  <thead>\n",
       "    <tr style=\"text-align: right;\">\n",
       "      <th></th>\n",
       "      <th>0</th>\n",
       "    </tr>\n",
       "  </thead>\n",
       "  <tbody>\n",
       "    <tr>\n",
       "      <th>0</th>\n",
       "      <td>Python</td>\n",
       "    </tr>\n",
       "    <tr>\n",
       "      <th>1</th>\n",
       "      <td>Pandas</td>\n",
       "    </tr>\n",
       "  </tbody>\n",
       "</table>\n",
       "</div>"
      ],
      "text/plain": [
       "        0\n",
       "0  Python\n",
       "1  Pandas"
      ]
     },
     "execution_count": 2,
     "metadata": {},
     "output_type": "execute_result"
    }
   ],
   "source": [
    "# Python Pandas DataFrame\n",
    "# It is a widely used data structure of pandas and works with a two-dimensional array with labeled axes (rows and columns).\n",
    "# 2) DataFrame\n",
    "import pandas as pd  \n",
    "# a list of strings  \n",
    "x = ['Python', 'Pandas']  \n",
    "# Calling DataFrame constructor on list  \n",
    "df = pd.DataFrame(x)  \n",
    "df "
   ]
  }
 ],
 "metadata": {
  "kernelspec": {
   "display_name": "Python 3",
   "language": "python",
   "name": "python3"
  },
  "language_info": {
   "codemirror_mode": {
    "name": "ipython",
    "version": 3
   },
   "file_extension": ".py",
   "mimetype": "text/x-python",
   "name": "python",
   "nbconvert_exporter": "python",
   "pygments_lexer": "ipython3",
   "version": "3.8.3"
  }
 },
 "nbformat": 4,
 "nbformat_minor": 4
}
