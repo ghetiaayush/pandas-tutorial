{
 "cells": [
  {
   "cell_type": "code",
   "execution_count": 1,
   "metadata": {},
   "outputs": [],
   "source": [
    "import pandas as pd\n",
    "import numpy as np"
   ]
  },
  {
   "cell_type": "code",
   "execution_count": 3,
   "metadata": {},
   "outputs": [
    {
     "name": "stdout",
     "output_type": "stream",
     "text": [
      "DataFrame is written successfully to the Excel File.\n"
     ]
    }
   ],
   "source": [
    "info_marks = pd.DataFrame({'name': ['Parker', 'Smith', 'William', 'Terry', 'moto'],  \n",
    "     'Maths': [78, 84, 67, 72, 89],  \n",
    "     'Science': [89, 92, 61, 77, 98],  \n",
    "     'English': [72, 75, 64, 82, 78]})  \n",
    "  \n",
    "# render dataframe as html  \n",
    "writer = pd.ExcelWriter('output.xlsx')  \n",
    "info_marks.to_excel(writer)  \n",
    "writer.save()  \n",
    "print('DataFrame is written successfully to the Excel File.')  "
   ]
  }
 ],
 "metadata": {
  "kernelspec": {
   "display_name": "Python 3",
   "language": "python",
   "name": "python3"
  },
  "language_info": {
   "codemirror_mode": {
    "name": "ipython",
    "version": 3
   },
   "file_extension": ".py",
   "mimetype": "text/x-python",
   "name": "python",
   "nbconvert_exporter": "python",
   "pygments_lexer": "ipython3",
   "version": "3.8.3"
  }
 },
 "nbformat": 4,
 "nbformat_minor": 4
}
