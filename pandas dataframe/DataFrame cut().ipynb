{
 "cells": [
  {
   "cell_type": "code",
   "execution_count": 2,
   "metadata": {},
   "outputs": [
    {
     "name": "stdout",
     "output_type": "stream",
     "text": [
      "   num\n",
      "0   35\n",
      "1   50\n",
      "2   11\n",
      "3   93\n",
      "4   80\n",
      "5   54\n",
      "6   78\n",
      "7    9\n",
      "8   55\n",
      "9   62\n",
      "   num   num_bins\n",
      "0   35   (25, 50]\n",
      "1   50   (25, 50]\n",
      "2   11    (1, 25]\n",
      "3   93  (75, 100]\n",
      "4   80  (75, 100]\n",
      "5   54   (50, 75]\n",
      "6   78  (75, 100]\n",
      "7    9    (1, 25]\n",
      "8   55   (50, 75]\n",
      "9   62   (50, 75]\n",
      "[(25, 50], (1, 25], (75, 100], (50, 75]]\n",
      "Categories (4, interval[int64]): [(1, 25] < (25, 50] < (50, 75] < (75, 100]]\n"
     ]
    }
   ],
   "source": [
    "import pandas as pd\n",
    "import numpy as np\n",
    "\n",
    "df_nums = pd.DataFrame({'num': np.random.randint(1, 100, 10)})\n",
    "print(df_nums)\n",
    "\n",
    "df_nums['num_bins'] = pd.cut(x=df_nums['num'], bins=[1, 25, 50, 75, 100])\n",
    "print(df_nums)\n",
    "\n",
    "print(df_nums['num_bins'].unique())"
   ]
  },
  {
   "cell_type": "code",
   "execution_count": 3,
   "metadata": {},
   "outputs": [
    {
     "name": "stdout",
     "output_type": "stream",
     "text": [
      "   num\n",
      "0   11\n",
      "1    5\n",
      "2   19\n",
      "3    6\n",
      "4   13\n",
      "5   14\n",
      "6    7\n",
      "7    3\n",
      "8   11\n",
      "9   11\n",
      "   num nums_labels\n",
      "0   11       Highs\n",
      "1    5        Lows\n",
      "2   19       Highs\n",
      "3    6        Lows\n",
      "4   13       Highs\n",
      "5   14       Highs\n",
      "6    7        Lows\n",
      "7    3        Lows\n",
      "8   11       Highs\n",
      "9   11       Highs\n",
      "[Highs, Lows]\n",
      "Categories (2, object): [Lows < Highs]\n"
     ]
    }
   ],
   "source": [
    "import pandas as pd\n",
    "import numpy as np\n",
    "\n",
    "df_nums = pd.DataFrame({'num': np.random.randint(1, 20, 10)})\n",
    "print(df_nums)\n",
    "\n",
    "df_nums['nums_labels'] = pd.cut(x=df_nums['num'], bins=[1, 10, 20], labels=['Lows', 'Highs'], right=False)\n",
    "\n",
    "print(df_nums)\n",
    "\n",
    "print(df_nums['nums_labels'].unique())"
   ]
  }
 ],
 "metadata": {
  "kernelspec": {
   "display_name": "Python 3",
   "language": "python",
   "name": "python3"
  },
  "language_info": {
   "codemirror_mode": {
    "name": "ipython",
    "version": 3
   },
   "file_extension": ".py",
   "mimetype": "text/x-python",
   "name": "python",
   "nbconvert_exporter": "python",
   "pygments_lexer": "ipython3",
   "version": "3.8.3"
  }
 },
 "nbformat": 4,
 "nbformat_minor": 4
}
