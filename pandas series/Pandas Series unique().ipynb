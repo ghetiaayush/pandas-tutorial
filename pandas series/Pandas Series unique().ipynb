{
 "cells": [
  {
   "cell_type": "code",
   "execution_count": 1,
   "metadata": {},
   "outputs": [
    {
     "data": {
      "text/plain": [
       "array(['2016-01-01T00:00:00.000000000'], dtype='datetime64[ns]')"
      ]
     },
     "execution_count": 1,
     "metadata": {},
     "output_type": "execute_result"
    }
   ],
   "source": [
    "# example 1:\n",
    "import pandas as pd  \n",
    "pd.unique(pd.Series([2, 1, 3, 3]))  \n",
    "pd.unique(pd.Series([pd.Timestamp('20160101'),  \n",
    "pd.Timestamp('20160101')]))  "
   ]
  },
  {
   "cell_type": "code",
   "execution_count": 2,
   "metadata": {},
   "outputs": [
    {
     "data": {
      "text/plain": [
       "DatetimeIndex(['2020-01-01 00:00:00-05:00'], dtype='datetime64[ns, US/Eastern]', freq=None)"
      ]
     },
     "execution_count": 2,
     "metadata": {},
     "output_type": "execute_result"
    }
   ],
   "source": [
    "# example 2:The below example extracts the unique timestamp from the Index:\n",
    "import pandas as pd  \n",
    "import numpy as np  \n",
    "pd.unique(pd.Index([pd.Timestamp('20200101', tz='US/Eastern'),  \n",
    "pd.Timestamp('20200101', tz='US/Eastern')]))  "
   ]
  }
 ],
 "metadata": {
  "kernelspec": {
   "display_name": "Python 3",
   "language": "python",
   "name": "python3"
  },
  "language_info": {
   "codemirror_mode": {
    "name": "ipython",
    "version": 3
   },
   "file_extension": ".py",
   "mimetype": "text/x-python",
   "name": "python",
   "nbconvert_exporter": "python",
   "pygments_lexer": "ipython3",
   "version": "3.8.3"
  }
 },
 "nbformat": 4,
 "nbformat_minor": 4
}
