{
 "cells": [
  {
   "cell_type": "code",
   "execution_count": 1,
   "metadata": {},
   "outputs": [
    {
     "data": {
      "text/plain": [
       "1.0    2\n",
       "3.0    1\n",
       "2.0    1\n",
       "dtype: int64"
      ]
     },
     "execution_count": 1,
     "metadata": {},
     "output_type": "execute_result"
    }
   ],
   "source": [
    "# example1\n",
    "import pandas as pd  \n",
    "import numpy as np  \n",
    "index = pd.Index([2, 1, 1, np.nan, 3])  \n",
    "index.value_counts() "
   ]
  },
  {
   "cell_type": "code",
   "execution_count": 2,
   "metadata": {},
   "outputs": [
    {
     "data": {
      "text/plain": [
       "1.0    0.50\n",
       "3.0    0.25\n",
       "2.0    0.25\n",
       "dtype: float64"
      ]
     },
     "execution_count": 2,
     "metadata": {},
     "output_type": "execute_result"
    }
   ],
   "source": [
    "# example2\n",
    "import pandas as pd  \n",
    "import numpy as np  \n",
    "index = pd.Index([2, 1, 1, np.nan, 3])  \n",
    "a = pd.Series([2, 1, 1, np.nan, 3])  \n",
    "a.value_counts(normalize=True) "
   ]
  },
  {
   "cell_type": "code",
   "execution_count": 3,
   "metadata": {},
   "outputs": [
    {
     "data": {
      "text/plain": [
       "(0.997, 2.0]    4\n",
       "(2.0, 3.0]      1\n",
       "dtype: int64"
      ]
     },
     "execution_count": 3,
     "metadata": {},
     "output_type": "execute_result"
    }
   ],
   "source": [
    "# example3\n",
    "import pandas as pd  \n",
    "index = pd.Index([1, 3, 2, 2, 1, np.nan])  \n",
    "index.value_counts()  \n",
    "a = pd.Series([1, 3, 2, 2, 1, np.nan])  \n",
    "a.value_counts(bins=2)  "
   ]
  },
  {
   "cell_type": "code",
   "execution_count": 4,
   "metadata": {},
   "outputs": [
    {
     "data": {
      "text/plain": [
       "2.0    2\n",
       "1.0    2\n",
       "NaN    1\n",
       "3.0    1\n",
       "dtype: int64"
      ]
     },
     "execution_count": 4,
     "metadata": {},
     "output_type": "execute_result"
    }
   ],
   "source": [
    "# example4\n",
    "import pandas as pd  \n",
    "index = pd.Index([1, 3, 2, 2, 1, np.nan])  \n",
    "index.value_counts()  \n",
    "a = pd.Series([1, 3, 2, 2, 1, np.nan])  \n",
    "a.value_counts(dropna=False)  "
   ]
  }
 ],
 "metadata": {
  "kernelspec": {
   "display_name": "Python 3",
   "language": "python",
   "name": "python3"
  },
  "language_info": {
   "codemirror_mode": {
    "name": "ipython",
    "version": 3
   },
   "file_extension": ".py",
   "mimetype": "text/x-python",
   "name": "python",
   "nbconvert_exporter": "python",
   "pygments_lexer": "ipython3",
   "version": "3.8.3"
  }
 },
 "nbformat": 4,
 "nbformat_minor": 4
}
