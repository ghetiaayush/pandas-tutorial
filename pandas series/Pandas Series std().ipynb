{
 "cells": [
  {
   "cell_type": "code",
   "execution_count": 1,
   "metadata": {},
   "outputs": [
    {
     "name": "stdout",
     "output_type": "stream",
     "text": [
      "2.1147629234082532\n",
      "10.077252622027656\n"
     ]
    }
   ],
   "source": [
    "# example1:\n",
    "# calculate standard deviation \n",
    "import pandas as pd  \n",
    "import numpy as np   \n",
    "print(np.std([4,7,2,1,6,3]))  \n",
    "print(np.std([6,9,15,2,-17,15,4])) "
   ]
  },
  {
   "cell_type": "code",
   "execution_count": 2,
   "metadata": {},
   "outputs": [
    {
     "data": {
      "text/plain": [
       "(      Name  sub1_Marks  sub2_Marks\n",
       " 0   Parker          52          41\n",
       " 1    Smith          38          35\n",
       " 2     John          42          29\n",
       " 3  William          37          36,\n",
       " sub1_Marks    6.849574\n",
       " sub2_Marks    4.924429\n",
       " dtype: float64)"
      ]
     },
     "execution_count": 2,
     "metadata": {},
     "output_type": "execute_result"
    }
   ],
   "source": [
    "# example2:\n",
    "import pandas as pd  \n",
    "import numpy as np  \n",
    "#Create a DataFrame  \n",
    "info = {  \n",
    "    'Name':['Parker','Smith','John','William'],  \n",
    "   'sub1_Marks':[52,38,42,37],  \n",
    "   'sub2_Marks':[41,35,29,36]}   \n",
    "data = pd.DataFrame(info)  \n",
    "data, data.std() # standard deviation of the dataframe "
   ]
  }
 ],
 "metadata": {
  "kernelspec": {
   "display_name": "Python 3",
   "language": "python",
   "name": "python3"
  },
  "language_info": {
   "codemirror_mode": {
    "name": "ipython",
    "version": 3
   },
   "file_extension": ".py",
   "mimetype": "text/x-python",
   "name": "python",
   "nbconvert_exporter": "python",
   "pygments_lexer": "ipython3",
   "version": "3.8.3"
  }
 },
 "nbformat": 4,
 "nbformat_minor": 4
}
