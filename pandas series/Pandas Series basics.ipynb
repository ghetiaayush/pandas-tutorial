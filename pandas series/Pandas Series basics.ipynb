{
 "cells": [
  {
   "cell_type": "code",
   "execution_count": 1,
   "metadata": {},
   "outputs": [
    {
     "name": "stdout",
     "output_type": "stream",
     "text": [
      "Series([], dtype: float64)\n"
     ]
    },
    {
     "name": "stderr",
     "output_type": "stream",
     "text": [
      "<ipython-input-1-f0ebcd86efa9>:5: DeprecationWarning: The default dtype for empty Series will be 'object' instead of 'float64' in a future version. Specify a dtype explicitly to silence this warning.\n",
      "  x = pd.Series()\n"
     ]
    }
   ],
   "source": [
    "# Creating a Series\n",
    "# 1)Create an empty Series\n",
    "# example\n",
    "import pandas as pd  \n",
    "x = pd.Series()  \n",
    "print (x)  "
   ]
  },
  {
   "cell_type": "code",
   "execution_count": 2,
   "metadata": {},
   "outputs": [
    {
     "data": {
      "text/plain": [
       "0    g\n",
       "1    e\n",
       "2    e\n",
       "3    k\n",
       "4    s\n",
       "dtype: object"
      ]
     },
     "execution_count": 2,
     "metadata": {},
     "output_type": "execute_result"
    }
   ],
   "source": [
    "# creating a series\n",
    "# creating a series using inputs\n",
    "# 1) Creating a series from array\n",
    "# example\n",
    "import pandas as pd \n",
    "import numpy as np \n",
    "# simple array \n",
    "data = np.array(['g', 'e', 'e', 'k', 's']) \n",
    "ser = pd.Series(data) \n",
    "ser "
   ]
  },
  {
   "cell_type": "code",
   "execution_count": 3,
   "metadata": {},
   "outputs": [
    {
     "data": {
      "text/plain": [
       "10    g\n",
       "11    e\n",
       "12    e\n",
       "13    k\n",
       "14    s\n",
       "dtype: object"
      ]
     },
     "execution_count": 3,
     "metadata": {},
     "output_type": "execute_result"
    }
   ],
   "source": [
    "# 2) Creating a series from array with index\n",
    "# example\n",
    "import pandas as pd \n",
    "import numpy as np \n",
    "# simple array \n",
    "data = np.array(['g', 'e', 'e', 'k', 's']) \n",
    "# providing an index \n",
    "ser = pd.Series(data, index =[10, 11, 12, 13, 14]) \n",
    "ser "
   ]
  },
  {
   "cell_type": "code",
   "execution_count": 4,
   "metadata": {},
   "outputs": [
    {
     "data": {
      "text/plain": [
       "0    a\n",
       "1    y\n",
       "2    u\n",
       "3    s\n",
       "4    h\n",
       "dtype: object"
      ]
     },
     "execution_count": 4,
     "metadata": {},
     "output_type": "execute_result"
    }
   ],
   "source": [
    "# 3) creating a series from lists\n",
    "import pandas as pd \n",
    "# a simple list \n",
    "list = ['a', 'y', 'u', 's', 'h'] \n",
    "# create series form a list \n",
    "ser = pd.Series(list) \n",
    "ser"
   ]
  },
  {
   "cell_type": "code",
   "execution_count": 5,
   "metadata": {},
   "outputs": [
    {
     "data": {
      "text/plain": [
       "Geeks    10\n",
       "for      20\n",
       "geeks    30\n",
       "dtype: int64"
      ]
     },
     "execution_count": 5,
     "metadata": {},
     "output_type": "execute_result"
    }
   ],
   "source": [
    "# 4) creating a series from dictionary\n",
    "import pandas as pd \n",
    "# a simple dictionary \n",
    "dict = {'Geeks' : 10, \n",
    "        'for' : 20, \n",
    "        'geeks' : 30} \n",
    "# create series from dictionary \n",
    "ser = pd.Series(dict) \n",
    "ser "
   ]
  },
  {
   "cell_type": "code",
   "execution_count": 6,
   "metadata": {},
   "outputs": [
    {
     "data": {
      "text/plain": [
       "0    10\n",
       "1    10\n",
       "2    10\n",
       "3    10\n",
       "4    10\n",
       "5    10\n",
       "dtype: int64"
      ]
     },
     "execution_count": 6,
     "metadata": {},
     "output_type": "execute_result"
    }
   ],
   "source": [
    "# 5) Creating a series from Scalar value\n",
    "import pandas as pd \n",
    "import numpy as np \n",
    "# giving a scalar value with index \n",
    "ser = pd.Series(10, index =[0, 1, 2, 3, 4, 5]) \n",
    "ser "
   ]
  },
  {
   "cell_type": "code",
   "execution_count": 8,
   "metadata": {},
   "outputs": [
    {
     "data": {
      "text/plain": [
       "(0     3.0\n",
       " 1    18.0\n",
       " 2    33.0\n",
       " dtype: float64,\n",
       " 0      1.0\n",
       " 1     12.0\n",
       " 2     23.0\n",
       " 3     34.0\n",
       " 4     45.0\n",
       " 5     56.0\n",
       " 6     67.0\n",
       " 7     78.0\n",
       " 8     89.0\n",
       " 9    100.0\n",
       " dtype: float64)"
      ]
     },
     "execution_count": 8,
     "metadata": {},
     "output_type": "execute_result"
    }
   ],
   "source": [
    "# 6) Creating a series using NumPy functions\n",
    "# import pandas and numpy \n",
    "import pandas as pd \n",
    "import numpy as np \n",
    "# series with numpy linspace() \n",
    "ser1 = pd.Series(np.linspace(3, 33, 3)) \n",
    "ser1 \n",
    "# series with numpy linspace() \n",
    "ser2 = pd.Series(np.linspace(1, 100, 10)) \n",
    "ser1, ser2 \n"
   ]
  }
 ],
 "metadata": {
  "kernelspec": {
   "display_name": "Python 3",
   "language": "python",
   "name": "python3"
  },
  "language_info": {
   "codemirror_mode": {
    "name": "ipython",
    "version": 3
   },
   "file_extension": ".py",
   "mimetype": "text/x-python",
   "name": "python",
   "nbconvert_exporter": "python",
   "pygments_lexer": "ipython3",
   "version": "3.8.3"
  }
 },
 "nbformat": 4,
 "nbformat_minor": 4
}
